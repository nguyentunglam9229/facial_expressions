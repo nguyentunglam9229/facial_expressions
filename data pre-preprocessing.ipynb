{
 "cells": [
  {
   "cell_type": "code",
   "execution_count": 21,
   "metadata": {},
   "outputs": [],
   "source": [
    "from keras.preprocessing.image import ImageDataGenerator, array_to_img, img_to_array, load_img\n",
    "import os\n",
    "datagen = ImageDataGenerator(\n",
    "        rotation_range=10,\n",
    "        width_shift_range=0.05,\n",
    "        height_shift_range=0.05,\n",
    "        shear_range=0.05,\n",
    "        zoom_range=0.05,\n",
    "        horizontal_flip=True,\n",
    "        fill_mode='nearest')\n",
    "files = os.listdir('fer2013/train/angry/')\n",
    "for file in files:\n",
    "    img = load_img(f'fer2013/train/angry/{file}')  # this is a PIL image\n",
    "    x = img_to_array(img)  # this is a Numpy array with shape (3, 150, 150)\n",
    "    x = x.reshape((1,) + x.shape)  # this is a Numpy array with shape (1, 3, 150, 150)\n",
    "\n",
    "    # the .flow() command below generates batches of randomly transformed images\n",
    "    # and saves the results to the `preview/` directory\n",
    "    i = 0\n",
    "    for batch in datagen.flow(x, batch_size=1,\n",
    "                              save_to_dir='fer2013/train_augumentation/angry', save_prefix='angry', save_format='jpg'):\n",
    "        i += 1\n",
    "        if i >= 1:\n",
    "            break  # otherwise the generator would loop indefinitely\n"
   ]
  },
  {
   "cell_type": "code",
   "execution_count": 33,
   "metadata": {},
   "outputs": [],
   "source": [
    "emotions = ['angry', 'disgust', 'fear', 'happy', 'neutral', 'sad', 'surprise']"
   ]
  },
  {
   "cell_type": "code",
   "execution_count": 34,
   "metadata": {},
   "outputs": [],
   "source": [
    "import numpy as np\n",
    "emo = np.eye(7, dtype=int)\n",
    "angry = y[0]\n",
    "disgust = y[1]\n",
    "fear = y[2]\n",
    "happy = y[3]\n",
    "neutral = y[4]\n",
    "sad = y[5]\n",
    "surprise = y[6]"
   ]
  },
  {
   "cell_type": "code",
   "execution_count": 36,
   "metadata": {},
   "outputs": [
    {
     "data": {
      "text/plain": [
       "array([0, 1, 0, 0, 0, 0, 0])"
      ]
     },
     "execution_count": 36,
     "metadata": {},
     "output_type": "execute_result"
    }
   ],
   "source": [
    "emo[1]"
   ]
  },
  {
   "cell_type": "code",
   "execution_count": 37,
   "metadata": {},
   "outputs": [],
   "source": [
    "import cv2\n",
    "x_train = []\n",
    "y_train = []\n",
    "for i in range(len(emotions)):\n",
    "    files = os.listdir(f'fer13_aug/train_augumentation/{emotions[i]}')\n",
    "    for file in files:\n",
    "        image = cv2.imread(f\"fer13_aug/train_augumentation/{emotions[i]}/{file}\", 0)\n",
    "        x_train.append(image)\n",
    "        y_train.append(emo[i])"
   ]
  },
  {
   "cell_type": "code",
   "execution_count": 39,
   "metadata": {},
   "outputs": [
    {
     "name": "stdout",
     "output_type": "stream",
     "text": [
      "(43653, 48, 48)\n",
      "(43653, 7)\n"
     ]
    }
   ],
   "source": [
    "x_train = np.array(x_train)\n",
    "y_train = np.array(y_train)\n",
    "print(x_train.shape)\n",
    "print(y_train.shape)"
   ]
  },
  {
   "cell_type": "code",
   "execution_count": 41,
   "metadata": {},
   "outputs": [],
   "source": [
    "x_test = []\n",
    "y_test = []\n",
    "for i in range(len(emotions)):\n",
    "    files = os.listdir(f'fer13_aug/validation_augumentation/{emotions[i]}')\n",
    "    for file in files:\n",
    "        image = cv2.imread(f\"fer13_aug/validation_augumentation/{emotions[i]}/{file}\", 0)\n",
    "        x_test.append(image)\n",
    "        y_test.append(emo[i])\n",
    "x_test = np.array(x_test)\n",
    "y_test = np.array(y_test)"
   ]
  },
  {
   "cell_type": "code",
   "execution_count": 42,
   "metadata": {},
   "outputs": [
    {
     "name": "stdout",
     "output_type": "stream",
     "text": [
      "(15091, 48, 48)\n",
      "(15091, 7)\n"
     ]
    }
   ],
   "source": [
    "print(x_test.shape)\n",
    "print(y_test.shape)"
   ]
  },
  {
   "cell_type": "code",
   "execution_count": 50,
   "metadata": {},
   "outputs": [],
   "source": [
    "import h5py\n",
    "def store_many_hdf5(x, y, name_x, name_y):\n",
    "    file = h5py.File('h5/fer_test.h5', 'w')\n",
    "    dataset = file.create_dataset('name_x', np.shape(x), h5py.h5t.STD_U8BE, data=x)\n",
    "    output = file.create_dataset('name_y', np.shape(y), h5py.h5t.STD_U8BE, data=y)\n",
    "    file.close()"
   ]
  },
  {
   "cell_type": "code",
   "execution_count": 51,
   "metadata": {},
   "outputs": [],
   "source": [
    "store_many_hdf5(x_test, y_test, 'x_test', 'y_test')"
   ]
  }
 ],
 "metadata": {
  "kernelspec": {
   "display_name": "Python 3",
   "language": "python",
   "name": "python3"
  },
  "language_info": {
   "codemirror_mode": {
    "name": "ipython",
    "version": 3
   },
   "file_extension": ".py",
   "mimetype": "text/x-python",
   "name": "python",
   "nbconvert_exporter": "python",
   "pygments_lexer": "ipython3",
   "version": "3.7.7"
  }
 },
 "nbformat": 4,
 "nbformat_minor": 4
}
