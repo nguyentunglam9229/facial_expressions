{
 "cells": [
  {
   "cell_type": "code",
   "execution_count": 1,
   "metadata": {},
   "outputs": [],
   "source": [
    "import numpy as np\n",
    "import pandas as pd\n",
    "from PIL import Image\n",
    "import matplotlib.pyplot as plt\n",
    "import cv2\n",
    "import h5py"
   ]
  },
  {
   "cell_type": "code",
   "execution_count": 2,
   "metadata": {},
   "outputs": [],
   "source": [
    "def store_single_hdf5(image):\n",
    "    file = h5py.File('h5/test_store1.h5', 'w')\n",
    "    dataset = file.create_dataset('image1', np.shape(image), h5py.h5t.STD_U8BE, data=image)\n",
    "    file.close()"
   ]
  },
  {
   "cell_type": "code",
   "execution_count": 3,
   "metadata": {},
   "outputs": [],
   "source": [
    "import os\n",
    "files = os.listdir('images/')\n",
    "imageList = []\n",
    "fileNames = []\n",
    "for file in files:\n",
    "    image = cv2.imread(f\"images/{file}\", 0)\n",
    "    if image.shape == (350, 350):\n",
    "        imageList.append(image)\n",
    "        fileNames.append(file)"
   ]
  },
  {
   "cell_type": "code",
   "execution_count": 4,
   "metadata": {},
   "outputs": [],
   "source": [
    "import numpy as np\n",
    "imgs = np.array(imageList)"
   ]
  },
  {
   "cell_type": "code",
   "execution_count": 5,
   "metadata": {},
   "outputs": [
    {
     "data": {
      "text/plain": [
       "array(['anger', 'surprise', 'disgust', 'fear', 'neutral', 'happiness',\n",
       "       'sadness', 'contempt'], dtype=object)"
      ]
     },
     "execution_count": 5,
     "metadata": {},
     "output_type": "execute_result"
    }
   ],
   "source": [
    "df = pd.read_csv('data/legend.csv')\n",
    "df['emotion'] = df['emotion'].str.lower()\n",
    "df['emotion'].unique()"
   ]
  },
  {
   "cell_type": "code",
   "execution_count": 6,
   "metadata": {},
   "outputs": [],
   "source": [
    "from sklearn.preprocessing import LabelEncoder\n",
    "label_encoder = LabelEncoder()\n",
    "emotion = df['emotion']\n",
    "integer_encoded = label_encoder.fit_transform(emotion)\n",
    "df['emotion_encoded'] = integer_encoded"
   ]
  },
  {
   "cell_type": "code",
   "execution_count": 7,
   "metadata": {},
   "outputs": [],
   "source": [
    "y = []\n",
    "for file in fileNames:\n",
    "    value = df[df['image'] == file].emotion_encoded.values\n",
    "    if len(value) == 1:\n",
    "        y.append(value[0])\n",
    "    else:\n",
    "        y.append(-1)"
   ]
  },
  {
   "cell_type": "code",
   "execution_count": 8,
   "metadata": {},
   "outputs": [],
   "source": [
    "image_tmp = imgs.copy()\n",
    "fileName_tmp = fileNames.copy()\n",
    "y_tmp = y.copy()"
   ]
  },
  {
   "cell_type": "code",
   "execution_count": 9,
   "metadata": {},
   "outputs": [],
   "source": [
    "fileName_tmp = np.array(fileName_tmp)"
   ]
  },
  {
   "cell_type": "code",
   "execution_count": 10,
   "metadata": {},
   "outputs": [
    {
     "data": {
      "text/plain": [
       "(12794,)"
      ]
     },
     "execution_count": 10,
     "metadata": {},
     "output_type": "execute_result"
    }
   ],
   "source": [
    "y_tmp = np.array(y)\n",
    "y_tmp.shape"
   ]
  },
  {
   "cell_type": "code",
   "execution_count": 11,
   "metadata": {},
   "outputs": [
    {
     "data": {
      "text/plain": [
       "array([   49,   924,  2113,  2163,  2644,  3013,  3506,  3612,  3748,\n",
       "        3775,  4872,  5335,  5890,  6119,  6124,  6316,  6662,  7283,\n",
       "        7284,  7285,  7286,  7287,  7288,  7772,  7894,  8014,  8706,\n",
       "        8793,  9035,  9474,  9601,  9725,  9885,  9974, 10274, 10488,\n",
       "       10538, 10562, 10970, 11669, 12089, 12534, 12587], dtype=int64)"
      ]
     },
     "execution_count": 11,
     "metadata": {},
     "output_type": "execute_result"
    }
   ],
   "source": [
    "deleteList = np.where(y_tmp == -1)[0]\n",
    "deleteList"
   ]
  },
  {
   "cell_type": "code",
   "execution_count": 12,
   "metadata": {},
   "outputs": [],
   "source": [
    "images = np.delete(imgs, deleteList, 0)"
   ]
  },
  {
   "cell_type": "code",
   "execution_count": 13,
   "metadata": {},
   "outputs": [
    {
     "data": {
      "text/plain": [
       "(12751, 350, 350)"
      ]
     },
     "execution_count": 13,
     "metadata": {},
     "output_type": "execute_result"
    }
   ],
   "source": [
    "images.shape"
   ]
  },
  {
   "cell_type": "code",
   "execution_count": 14,
   "metadata": {},
   "outputs": [],
   "source": [
    "y_target = np.delete(y_tmp, deleteList)"
   ]
  },
  {
   "cell_type": "code",
   "execution_count": 15,
   "metadata": {},
   "outputs": [
    {
     "data": {
      "text/plain": [
       "(12751,)"
      ]
     },
     "execution_count": 15,
     "metadata": {},
     "output_type": "execute_result"
    }
   ],
   "source": [
    "y_target.shape"
   ]
  },
  {
   "cell_type": "code",
   "execution_count": 16,
   "metadata": {},
   "outputs": [],
   "source": [
    "def store_many_hdf5(images, target):\n",
    "    file = h5py.File('h5/images6.h5', 'w')\n",
    "    dataset = file.create_dataset('images', np.shape(images), data=images)\n",
    "    output = file.create_dataset('target', np.shape(target), data=target)\n",
    "    file.close()"
   ]
  },
  {
   "cell_type": "code",
   "execution_count": 17,
   "metadata": {},
   "outputs": [
    {
     "data": {
      "text/plain": [
       "array(['anger', 'contempt', 'disgust', 'fear', 'happiness', 'neutral',\n",
       "       'sadness', 'surprise'], dtype=object)"
      ]
     },
     "execution_count": 17,
     "metadata": {},
     "output_type": "execute_result"
    }
   ],
   "source": [
    "target_names =  label_encoder.inverse_transform([0,1,2,3,4,5,6,7])\n",
    "target_names"
   ]
  },
  {
   "cell_type": "code",
   "execution_count": 18,
   "metadata": {},
   "outputs": [],
   "source": [
    "# store_many_hdf5(images, y_target)"
   ]
  },
  {
   "cell_type": "code",
   "execution_count": 19,
   "metadata": {},
   "outputs": [],
   "source": [
    "# data = h5py.File('h5/images6.h5', 'r')"
   ]
  },
  {
   "cell_type": "code",
   "execution_count": 20,
   "metadata": {},
   "outputs": [],
   "source": [
    "# data['images'][:].shape\n",
    "# data['target'][:].shape"
   ]
  },
  {
   "cell_type": "code",
   "execution_count": 21,
   "metadata": {},
   "outputs": [],
   "source": [
    "# data = pd.DataFrame()"
   ]
  }
 ],
 "metadata": {
  "kernelspec": {
   "display_name": "Python 3",
   "language": "python",
   "name": "python3"
  },
  "language_info": {
   "codemirror_mode": {
    "name": "ipython",
    "version": 3
   },
   "file_extension": ".py",
   "mimetype": "text/x-python",
   "name": "python",
   "nbconvert_exporter": "python",
   "pygments_lexer": "ipython3",
   "version": "3.7.7"
  }
 },
 "nbformat": 4,
 "nbformat_minor": 4
}
